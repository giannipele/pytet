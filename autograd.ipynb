{
 "cells": [
  {
   "cell_type": "code",
   "execution_count": 82,
   "metadata": {},
   "outputs": [
    {
     "name": "stdout",
     "output_type": "stream",
     "text": [
      "\n",
      "------------------\n",
      "[0.13 0.38]\n",
      "[0.13 0.38]\n",
      "2.6315789473684212\n",
      "9.979889196675902\n",
      "-------------------\n",
      "Autograd ArrayBox with value [0.13 0.38]\n",
      "Autograd ArrayBox with value [0.13 0.38]\n",
      "Autograd ArrayBox with value 2.6315789473684212\n",
      "Autograd ArrayBox with value 9.979889196675902\n",
      "--------------------\n",
      "------- Res  = 9.979889196675902 ------\n",
      "------- Grad = [[  0.         -18.5449774 ]\n",
      " [  0.         -30.90829567]] ------\n",
      "------- w = [0.3 0.5] ------\n",
      "------- z = [2.05449774 3.79082957] ------\n",
      "\n",
      "------------------\n",
      "[0.33 0.13]\n",
      "[0.13 0.33]\n",
      "3.0303030303030307\n",
      "13.856988062442614\n",
      "-------------------\n",
      "Autograd ArrayBox with value [0.33 0.13]\n",
      "Autograd ArrayBox with value [0.13 0.33]\n",
      "Autograd ArrayBox with value 3.0303030303030307\n",
      "Autograd ArrayBox with value 13.856988062442614\n",
      "--------------------\n",
      "------- Res  = 13.856988062442614 ------\n",
      "------- Grad = [[-28.98405543   0.        ]\n",
      " [-48.30675905   0.        ]] ------\n",
      "------- w = [3.19840554 5.33067591] ------\n",
      "------- z = [2.05449774 3.79082957] ------\n"
     ]
    }
   ],
   "source": [
    "from autograd import grad\n",
    "import autograd.numpy as np\n",
    "'''\n",
    "w= np.array([.5,.2,.7,.6,.9])\n",
    "\n",
    "def fun(x):\n",
    "    #return np.dot(w, np.ndarray.sort(x))\n",
    "    return np.dot(w,x)\n",
    "\n",
    "sort_grad = grad(sorted_fun)\n",
    "\n",
    "def sorted_fun(x):\n",
    "    #return np.dot(w, np.ndarray.sort(x))\n",
    "    return np.sort(x)\n",
    "\n",
    "sort_grad = grad(sorted_fun)\n",
    "fun_grad = grad(fun)\n",
    "\n",
    "print(sorted_fun(np.array([2,1,1,1,1])))\n",
    "print(fun(np.array([2,1,1,1,1])))\n",
    "\n",
    "print(sort_grad(np.array([1,1,1,1,1])))\n",
    "print(fun_grad(np.array([1,1,1,1,1])))'''\n",
    "\n",
    "w = np.array([.3,.5])\n",
    "z = np.array([.2,.7])\n",
    "\n",
    "y = np.array([.3,.5])\n",
    "\n",
    "def w_sum(w,x):\n",
    "    #print(w,x)\n",
    "    return np.dot(w,x)\n",
    "\n",
    "def sort_x(x):\n",
    "    return np.sort(x)\n",
    "\n",
    "def cdf(x):\n",
    "    cdf = np.cumsum(x)\n",
    "    r = 0\n",
    "    for i in range(len(cdf)):\n",
    "        r += len(cdf[:i])/(cdf[i] - cdf[np.min(i-1,0)])\n",
    "    return r\n",
    "\n",
    "def compute(x):\n",
    "    r = w_sum(w,x)\n",
    "    print(r)    \n",
    "    s = sort_x(r)\n",
    "    print(s)\n",
    "    f =  w_sum(z,s)\n",
    "    print(f)\n",
    "    e = np.sum((y-f)**2)\n",
    "    print(e)\n",
    "    return e\n",
    "\n",
    "def compute_2(x):\n",
    "    r = w_sum(w,x)\n",
    "    print(r)    \n",
    "    s = sort_x(r)\n",
    "    print(s)\n",
    "    f =  cdf(s)\n",
    "    print(f)\n",
    "    e = np.sum((y-f)**2)\n",
    "    print(e)\n",
    "    return e\n",
    "\n",
    "x_1 = np.array([[.1,.6],[.2,.4]])\n",
    "x_2 = np.array([[.6,.1],[.3,.2]])\n",
    "\n",
    "xs = np.array((x_1,x_2))\n",
    "comp_grad = grad(compute_2)\n",
    "\n",
    "for i in range(len(xs)):\n",
    "    x= xs[i]\n",
    "    print(\"\\n------------------\")\n",
    "    res = compute_2(x)\n",
    "    print (\"-------------------\")\n",
    "    grad_c = comp_grad(x)\n",
    "    \n",
    "    w = w - 0.1 * grad_c[:,0]\n",
    "    z = z - 0.1 * grad_c[:,1]\n",
    "    print(\"--------------------\")\n",
    "    print(\"------- Res  = {} ------\".format(res))\n",
    "    print(\"------- Grad = {} ------\".format(grad_c))\n",
    "    print(\"------- w = {} ------\".format(w))\n",
    "    print(\"------- z = {} ------\".format(z))\n"
   ]
  },
  {
   "cell_type": "code",
   "execution_count": 59,
   "metadata": {},
   "outputs": [
    {
     "name": "stdout",
     "output_type": "stream",
     "text": [
      "0.3808456075497575\n"
     ]
    }
   ],
   "source": [
    "print(w_sum(w,np.array([.6,.4])))\n"
   ]
  },
  {
   "cell_type": "code",
   "execution_count": 13,
   "metadata": {},
   "outputs": [
    {
     "name": "stdout",
     "output_type": "stream",
     "text": [
      "Test message\n",
      "None\n"
     ]
    }
   ],
   "source": []
  },
  {
   "cell_type": "code",
   "execution_count": 15,
   "metadata": {},
   "outputs": [
    {
     "name": "stdout",
     "output_type": "stream",
     "text": [
      "3\n",
      "3\n"
     ]
    }
   ],
   "source": []
  }
 ],
 "metadata": {
  "kernelspec": {
   "display_name": "Python 3",
   "language": "python",
   "name": "python3"
  },
  "language_info": {
   "codemirror_mode": {
    "name": "ipython",
    "version": 3
   },
   "file_extension": ".py",
   "mimetype": "text/x-python",
   "name": "python",
   "nbconvert_exporter": "python",
   "pygments_lexer": "ipython3",
   "version": "3.7.0"
  }
 },
 "nbformat": 4,
 "nbformat_minor": 2
}
