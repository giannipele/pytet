{
 "cells": [
  {
   "cell_type": "code",
   "execution_count": 37,
   "metadata": {},
   "outputs": [
    {
     "name": "stdout",
     "output_type": "stream",
     "text": [
      "2.9\n",
      "[0.5 0.2 0.7 0.6 0.9]\n"
     ]
    }
   ],
   "source": [
    "from autograd import grad\n",
    "import autograd.numpy as np\n",
    "\n",
    "w= np.array([.5,.2,.7,.6,.9])\n",
    "\n",
    "def fun(x):\n",
    "    #return np.dot(w, np.ndarray.sort(x))\n",
    "    return np.dot(w,x)\n",
    "\n",
    "\n",
    "def sorted_fun(x):\n",
    "    #return np.dot(w, np.ndarray.sort(x))\n",
    "    return np.sort(np.dot(x,w))\n",
    "\n",
    "#sort_grad = grad(sorted_fun)\n",
    "fun_grad = grad(fun)\n",
    "\n",
    "#print(sorted_fun(np.array([2,1,1,1,1])))\n",
    "print(fun(np.array([1,1,1,1,1])))\n",
    "\n",
    "#print(sort_grad(np.array([1,1,1,1,1])))\n",
    "print(fun_grad(np.array([1,1,1,1,1])))"
   ]
  },
  {
   "cell_type": "code",
   "execution_count": 40,
   "metadata": {},
   "outputs": [
    {
     "name": "stdout",
     "output_type": "stream",
     "text": [
      "[1. 2.]\n"
     ]
    }
   ],
   "source": [
    "w = [2.,1.]\n",
    "def f(x):\n",
    "    return np.dot(np.sort(x), w)\n",
    "g = grad(f)\n",
    "print(g(np.array([0.8,0.5])))"
   ]
  },
  {
   "cell_type": "code",
   "execution_count": 41,
   "metadata": {},
   "outputs": [],
   "source": [
    "s = np.argsort([0.8,0.2])"
   ]
  },
  {
   "cell_type": "code",
   "execution_count": null,
   "metadata": {},
   "outputs": [],
   "source": []
  },
  {
   "cell_type": "code",
   "execution_count": null,
   "metadata": {},
   "outputs": [],
   "source": []
  }
 ],
 "metadata": {
  "kernelspec": {
   "display_name": "Python 3",
   "language": "python",
   "name": "python3"
  },
  "language_info": {
   "codemirror_mode": {
    "name": "ipython",
    "version": 3
   },
   "file_extension": ".py",
   "mimetype": "text/x-python",
   "name": "python",
   "nbconvert_exporter": "python",
   "pygments_lexer": "ipython3",
   "version": "3.6.6"
  }
 },
 "nbformat": 4,
 "nbformat_minor": 2
}
